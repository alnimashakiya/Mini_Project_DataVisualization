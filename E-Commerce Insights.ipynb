{
 "cells": [
  {
   "cell_type": "markdown",
   "id": "846394ba-c4df-4aa2-82d3-d8aebd1d7e62",
   "metadata": {},
   "source": [
    "# **BUSINESS UNDERSTANDING**\n",
    "\n",
    "This dataset contains comprehensive information about product sales transactions, including invoice numbers, product codes, quantities, prices, discounts, and customer details along with locations. It's highly valuable for analyzing sales performance, customer trends, and the effectiveness of sales strategies across different markets.\n",
    "\n",
    "By utilizing this dataset, several important things that can be explored are:\n",
    "1. Total order per month by market and region\n",
    "2. Total customers by market and region\n",
    "3. Total revenue per month by market and region\n",
    "4. Top 10 revenue by country\n",
    "5. top 5 best-selling product categories"
   ]
  },
  {
   "cell_type": "markdown",
   "id": "9d9d801d-0072-4e2e-b9cd-c5f98c3aa9c3",
   "metadata": {},
   "source": [
    "# **DATA UNDERSTANDING**\n",
    "\n",
    "- E-Commerce Insights from December 1 2010 - September 30 2011. The dataset consists of 35,185 rows and 12 columns.\n",
    "- Data source : https://www.kaggle.com/datasets\n",
    "- Data dictionary :\n",
    "1. **InvoiceNo**: Invoice number. This is a unique identifier for each sales transaction or invoice generated.\n",
    "2. **StockCode**: Stock code. This is a unique identifier for each product in the inventory.\n",
    "3. **Product_name**: Product name. This refers to the name of the product being sold.\n",
    "4. **Category**: Category. This groups products into specific categories based on type or characteristics.\n",
    "5. **InvoiceDate**: Invoice date. This indicates the date when the transaction or sale occurred.\n",
    "6. **Quantity**: Quantity. This shows the number of units of the product sold in a particular transaction.\n",
    "7. **UnitPrice(€)**: Unit price in Euros. This is the price per unit for each product sold.\n",
    "8. **Disc_type**: Discount type. This refers to the type of discount that may be applied to the transaction, such as a percentage discount, fixed amount discount, or possibly no discount at all.\n",
    "9. **CustomerID**: Customer ID. This is a unique identifier for each customer making a transaction.\n",
    "10. **Country**: Country. This indicates the country of the customer or where the transaction took place.\n",
    "11. **Market_id**: Market ID. This is a unique identifier for the market or market segment where the product is sold.\n",
    "12. **Region**: Region. This refers to a specific geographical area or region within the country or market."
   ]
  },
  {
   "cell_type": "markdown",
   "id": "fe74cf8d-75f6-4cdb-b9ae-b613b5540bbc",
   "metadata": {},
   "source": [
    "# **DATA PREPARATION**\n",
    "\n",
    "Python Version: 3.11.6\n",
    "\n",
    "Packages:\n",
    "- Pandas"
   ]
  },
  {
   "cell_type": "markdown",
   "id": "7ac063f3-5e6f-49ae-8db7-9685f3f1f695",
   "metadata": {},
   "source": [
    "### Import Packages"
   ]
  },
  {
   "cell_type": "code",
   "execution_count": 1,
   "id": "ef17e65a-9b70-47a4-ab44-2315e1c990df",
   "metadata": {},
   "outputs": [],
   "source": [
    "import pandas as pd"
   ]
  },
  {
   "cell_type": "markdown",
   "id": "23ed5279-aabd-4e72-bc5e-9ed6798bd267",
   "metadata": {},
   "source": [
    "### Load Dataset"
   ]
  },
  {
   "cell_type": "code",
   "execution_count": 2,
   "id": "65135979-b37c-4de5-81a6-7a26fe79248b",
   "metadata": {},
   "outputs": [],
   "source": [
    "df = pd.read_csv('Ecommerce_Final.csv')"
   ]
  },
  {
   "cell_type": "markdown",
   "id": "8b337f8f-a8ed-4455-ac6a-d7225464ebbb",
   "metadata": {},
   "source": [
    "### Preview Dataset"
   ]
  },
  {
   "cell_type": "code",
   "execution_count": 3,
   "id": "4e2f9f0c-58b5-40fb-8bb8-061102320694",
   "metadata": {},
   "outputs": [
    {
     "data": {
      "text/html": [
       "<div>\n",
       "<style scoped>\n",
       "    .dataframe tbody tr th:only-of-type {\n",
       "        vertical-align: middle;\n",
       "    }\n",
       "\n",
       "    .dataframe tbody tr th {\n",
       "        vertical-align: top;\n",
       "    }\n",
       "\n",
       "    .dataframe thead th {\n",
       "        text-align: right;\n",
       "    }\n",
       "</style>\n",
       "<table border=\"1\" class=\"dataframe\">\n",
       "  <thead>\n",
       "    <tr style=\"text-align: right;\">\n",
       "      <th></th>\n",
       "      <th>InvoiceNo</th>\n",
       "      <th>StockCode</th>\n",
       "      <th>Product_name</th>\n",
       "      <th>Category</th>\n",
       "      <th>InvoiceDate</th>\n",
       "      <th>Quantity</th>\n",
       "      <th>UnitPrice(€)</th>\n",
       "      <th>Disc_type</th>\n",
       "      <th>CustomerID</th>\n",
       "      <th>Country</th>\n",
       "      <th>Market_id</th>\n",
       "      <th>Region</th>\n",
       "    </tr>\n",
       "  </thead>\n",
       "  <tbody>\n",
       "    <tr>\n",
       "      <th>0</th>\n",
       "      <td>536370</td>\n",
       "      <td>POST</td>\n",
       "      <td>Reffair AX30 [MAX] Portable Air Purifier for C...</td>\n",
       "      <td>Car &amp; Motorbike</td>\n",
       "      <td>2010-12-01 08:45:00</td>\n",
       "      <td>15</td>\n",
       "      <td>18.00</td>\n",
       "      <td>1</td>\n",
       "      <td>12583</td>\n",
       "      <td>United States</td>\n",
       "      <td>US</td>\n",
       "      <td>East</td>\n",
       "    </tr>\n",
       "    <tr>\n",
       "      <th>1</th>\n",
       "      <td>536370</td>\n",
       "      <td>22726</td>\n",
       "      <td>Wayona Nylon Braided USB to Lightning Fast Cha...</td>\n",
       "      <td>Computers &amp; Accessories</td>\n",
       "      <td>2010-12-01 08:45:00</td>\n",
       "      <td>118</td>\n",
       "      <td>3.75</td>\n",
       "      <td>1</td>\n",
       "      <td>12583</td>\n",
       "      <td>Australia</td>\n",
       "      <td>APAC</td>\n",
       "      <td>Oceania</td>\n",
       "    </tr>\n",
       "    <tr>\n",
       "      <th>2</th>\n",
       "      <td>536370</td>\n",
       "      <td>21724</td>\n",
       "      <td>Ambrane Unbreakable 60W / 3A Fast Charging 1.5...</td>\n",
       "      <td>Computers &amp; Accessories</td>\n",
       "      <td>2010-12-01 08:45:00</td>\n",
       "      <td>106</td>\n",
       "      <td>0.85</td>\n",
       "      <td>3</td>\n",
       "      <td>12583</td>\n",
       "      <td>Australia</td>\n",
       "      <td>APAC</td>\n",
       "      <td>Oceania</td>\n",
       "    </tr>\n",
       "    <tr>\n",
       "      <th>3</th>\n",
       "      <td>536370</td>\n",
       "      <td>21913</td>\n",
       "      <td>Sounce Fast Phone Charging Cable &amp; Data Sync U...</td>\n",
       "      <td>Computers &amp; Accessories</td>\n",
       "      <td>2010-12-01 08:45:00</td>\n",
       "      <td>96</td>\n",
       "      <td>3.75</td>\n",
       "      <td>1</td>\n",
       "      <td>12583</td>\n",
       "      <td>Germany</td>\n",
       "      <td>EU</td>\n",
       "      <td>Central</td>\n",
       "    </tr>\n",
       "    <tr>\n",
       "      <th>4</th>\n",
       "      <td>536370</td>\n",
       "      <td>21035</td>\n",
       "      <td>boAt Deuce USB 300 2 in 1 Type-C &amp; Micro USB S...</td>\n",
       "      <td>Computers &amp; Accessories</td>\n",
       "      <td>2010-12-01 08:45:00</td>\n",
       "      <td>61</td>\n",
       "      <td>2.95</td>\n",
       "      <td>1</td>\n",
       "      <td>12583</td>\n",
       "      <td>Senegal</td>\n",
       "      <td>Africa</td>\n",
       "      <td>Africa</td>\n",
       "    </tr>\n",
       "  </tbody>\n",
       "</table>\n",
       "</div>"
      ],
      "text/plain": [
       "   InvoiceNo StockCode                                       Product_name  \\\n",
       "0     536370      POST  Reffair AX30 [MAX] Portable Air Purifier for C...   \n",
       "1     536370     22726  Wayona Nylon Braided USB to Lightning Fast Cha...   \n",
       "2     536370     21724  Ambrane Unbreakable 60W / 3A Fast Charging 1.5...   \n",
       "3     536370     21913  Sounce Fast Phone Charging Cable & Data Sync U...   \n",
       "4     536370     21035  boAt Deuce USB 300 2 in 1 Type-C & Micro USB S...   \n",
       "\n",
       "                  Category          InvoiceDate  Quantity  UnitPrice(€)  \\\n",
       "0          Car & Motorbike  2010-12-01 08:45:00        15         18.00   \n",
       "1  Computers & Accessories  2010-12-01 08:45:00       118          3.75   \n",
       "2  Computers & Accessories  2010-12-01 08:45:00       106          0.85   \n",
       "3  Computers & Accessories  2010-12-01 08:45:00        96          3.75   \n",
       "4  Computers & Accessories  2010-12-01 08:45:00        61          2.95   \n",
       "\n",
       "   Disc_type  CustomerID        Country Market_id   Region  \n",
       "0          1       12583  United States        US     East  \n",
       "1          1       12583      Australia      APAC  Oceania  \n",
       "2          3       12583      Australia      APAC  Oceania  \n",
       "3          1       12583        Germany        EU  Central  \n",
       "4          1       12583        Senegal    Africa   Africa  "
      ]
     },
     "execution_count": 3,
     "metadata": {},
     "output_type": "execute_result"
    }
   ],
   "source": [
    "df.head()"
   ]
  },
  {
   "cell_type": "markdown",
   "id": "0eee7c34-c3ce-4dca-a2f3-09246c272136",
   "metadata": {},
   "source": [
    "### Info Dataset"
   ]
  },
  {
   "cell_type": "code",
   "execution_count": 4,
   "id": "145f9e08-97cc-4bcb-b615-05149ac0d661",
   "metadata": {},
   "outputs": [
    {
     "name": "stdout",
     "output_type": "stream",
     "text": [
      "<class 'pandas.core.frame.DataFrame'>\n",
      "RangeIndex: 35185 entries, 0 to 35184\n",
      "Data columns (total 12 columns):\n",
      " #   Column        Non-Null Count  Dtype  \n",
      "---  ------        --------------  -----  \n",
      " 0   InvoiceNo     35185 non-null  int64  \n",
      " 1   StockCode     35185 non-null  object \n",
      " 2   Product_name  35185 non-null  object \n",
      " 3   Category      35185 non-null  object \n",
      " 4   InvoiceDate   35185 non-null  object \n",
      " 5   Quantity      35185 non-null  int64  \n",
      " 6   UnitPrice(€)  35185 non-null  float64\n",
      " 7   Disc_type     35185 non-null  int64  \n",
      " 8   CustomerID    35185 non-null  int64  \n",
      " 9   Country       35185 non-null  object \n",
      " 10  Market_id     35185 non-null  object \n",
      " 11  Region        35185 non-null  object \n",
      "dtypes: float64(1), int64(4), object(7)\n",
      "memory usage: 3.2+ MB\n"
     ]
    }
   ],
   "source": [
    "df.info()"
   ]
  },
  {
   "cell_type": "code",
   "execution_count": 5,
   "id": "d9f6bb72-9aad-41f2-a573-efd820e8a8e1",
   "metadata": {},
   "outputs": [
    {
     "data": {
      "text/plain": [
       "(35185, 12)"
      ]
     },
     "execution_count": 5,
     "metadata": {},
     "output_type": "execute_result"
    }
   ],
   "source": [
    "df.shape"
   ]
  },
  {
   "cell_type": "markdown",
   "id": "4c2551ef-7265-49de-b744-4cd3703fc36a",
   "metadata": {},
   "source": [
    "#### Know the characteristics of the data by checking the amount of NULL data in each column"
   ]
  },
  {
   "cell_type": "code",
   "execution_count": 6,
   "id": "4ace5b68-c1e5-4844-97ea-a59f3471af44",
   "metadata": {},
   "outputs": [
    {
     "data": {
      "text/plain": [
       "InvoiceNo       0\n",
       "StockCode       0\n",
       "Product_name    0\n",
       "Category        0\n",
       "InvoiceDate     0\n",
       "Quantity        0\n",
       "UnitPrice(€)    0\n",
       "Disc_type       0\n",
       "CustomerID      0\n",
       "Country         0\n",
       "Market_id       0\n",
       "Region          0\n",
       "dtype: int64"
      ]
     },
     "execution_count": 6,
     "metadata": {},
     "output_type": "execute_result"
    }
   ],
   "source": [
    "df.isnull().sum()"
   ]
  }
 ],
 "metadata": {
  "kernelspec": {
   "display_name": "Python 3 (ipykernel)",
   "language": "python",
   "name": "python3"
  },
  "language_info": {
   "codemirror_mode": {
    "name": "ipython",
    "version": 3
   },
   "file_extension": ".py",
   "mimetype": "text/x-python",
   "name": "python",
   "nbconvert_exporter": "python",
   "pygments_lexer": "ipython3",
   "version": "3.11.7"
  }
 },
 "nbformat": 4,
 "nbformat_minor": 5
}
